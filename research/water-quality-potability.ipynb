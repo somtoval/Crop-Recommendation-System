{
 "cells": [
  {
   "cell_type": "markdown",
   "id": "rural-cyprus",
   "metadata": {
    "papermill": {
     "duration": 0.027918,
     "end_time": "2021-09-03T22:10:27.068361",
     "exception": false,
     "start_time": "2021-09-03T22:10:27.040443",
     "status": "completed"
    },
    "tags": []
   },
   "source": [
    "#  **Water Quality Potability Prediction**"
   ]
  },
  {
   "cell_type": "markdown",
   "id": "incorporated-audio",
   "metadata": {
    "papermill": {
     "duration": 0.025631,
     "end_time": "2021-09-03T22:10:27.120808",
     "exception": false,
     "start_time": "2021-09-03T22:10:27.095177",
     "status": "completed"
    },
    "tags": []
   },
   "source": [
    "Access to safe drinking-water is essential to health, a basic human right and a component of effective policy for health protection. This is important as a health and development issue at a national, regional and local level. In some regions, it has been shown that investments in water supply and sanitation can yield a net economic benefit, since the reductions in adverse health effects and health care costs outweigh the costs of undertaking the interventions."
   ]
  },
  {
   "cell_type": "code",
   "execution_count": 12,
   "id": "vital-fluid",
   "metadata": {
    "_cell_guid": "b1076dfc-b9ad-4769-8c92-a6c4dae69d19",
    "_uuid": "8f2839f25d086af736a60e9eeb907d3b93b6e0e5",
    "execution": {
     "iopub.execute_input": "2021-09-03T22:10:27.181945Z",
     "iopub.status.busy": "2021-09-03T22:10:27.181294Z",
     "iopub.status.idle": "2021-09-03T22:10:27.184556Z",
     "shell.execute_reply": "2021-09-03T22:10:27.183988Z",
     "shell.execute_reply.started": "2021-09-03T22:04:22.400877Z"
    },
    "papermill": {
     "duration": 0.037907,
     "end_time": "2021-09-03T22:10:27.184738",
     "exception": false,
     "start_time": "2021-09-03T22:10:27.146831",
     "status": "completed"
    },
    "tags": []
   },
   "outputs": [],
   "source": [
    "import numpy as np\n",
    "import pandas as pd "
   ]
  },
  {
   "cell_type": "markdown",
   "id": "unknown-mirror",
   "metadata": {
    "papermill": {
     "duration": 0.025548,
     "end_time": "2021-09-03T22:10:27.236224",
     "exception": false,
     "start_time": "2021-09-03T22:10:27.210676",
     "status": "completed"
    },
    "tags": []
   },
   "source": [
    "### Read dataset"
   ]
  },
  {
   "cell_type": "code",
   "execution_count": 13,
   "id": "expired-graduation",
   "metadata": {
    "execution": {
     "iopub.execute_input": "2021-09-03T22:10:27.294631Z",
     "iopub.status.busy": "2021-09-03T22:10:27.294040Z",
     "iopub.status.idle": "2021-09-03T22:10:27.358386Z",
     "shell.execute_reply": "2021-09-03T22:10:27.358817Z",
     "shell.execute_reply.started": "2021-09-03T22:04:22.413021Z"
    },
    "papermill": {
     "duration": 0.095368,
     "end_time": "2021-09-03T22:10:27.358994",
     "exception": false,
     "start_time": "2021-09-03T22:10:27.263626",
     "status": "completed"
    },
    "tags": []
   },
   "outputs": [
    {
     "data": {
      "text/html": [
       "<div>\n",
       "<style scoped>\n",
       "    .dataframe tbody tr th:only-of-type {\n",
       "        vertical-align: middle;\n",
       "    }\n",
       "\n",
       "    .dataframe tbody tr th {\n",
       "        vertical-align: top;\n",
       "    }\n",
       "\n",
       "    .dataframe thead th {\n",
       "        text-align: right;\n",
       "    }\n",
       "</style>\n",
       "<table border=\"1\" class=\"dataframe\">\n",
       "  <thead>\n",
       "    <tr style=\"text-align: right;\">\n",
       "      <th></th>\n",
       "      <th>ph</th>\n",
       "      <th>Hardness</th>\n",
       "      <th>Solids</th>\n",
       "      <th>Chloramines</th>\n",
       "      <th>Sulfate</th>\n",
       "      <th>Conductivity</th>\n",
       "      <th>Organic_carbon</th>\n",
       "      <th>Trihalomethanes</th>\n",
       "      <th>Turbidity</th>\n",
       "      <th>Potability</th>\n",
       "    </tr>\n",
       "  </thead>\n",
       "  <tbody>\n",
       "    <tr>\n",
       "      <th>0</th>\n",
       "      <td>NaN</td>\n",
       "      <td>204.890455</td>\n",
       "      <td>20791.318981</td>\n",
       "      <td>7.300212</td>\n",
       "      <td>368.516441</td>\n",
       "      <td>564.308654</td>\n",
       "      <td>10.379783</td>\n",
       "      <td>86.990970</td>\n",
       "      <td>2.963135</td>\n",
       "      <td>0</td>\n",
       "    </tr>\n",
       "    <tr>\n",
       "      <th>1</th>\n",
       "      <td>3.716080</td>\n",
       "      <td>129.422921</td>\n",
       "      <td>18630.057858</td>\n",
       "      <td>6.635246</td>\n",
       "      <td>NaN</td>\n",
       "      <td>592.885359</td>\n",
       "      <td>15.180013</td>\n",
       "      <td>56.329076</td>\n",
       "      <td>4.500656</td>\n",
       "      <td>0</td>\n",
       "    </tr>\n",
       "    <tr>\n",
       "      <th>2</th>\n",
       "      <td>8.099124</td>\n",
       "      <td>224.236259</td>\n",
       "      <td>19909.541732</td>\n",
       "      <td>9.275884</td>\n",
       "      <td>NaN</td>\n",
       "      <td>418.606213</td>\n",
       "      <td>16.868637</td>\n",
       "      <td>66.420093</td>\n",
       "      <td>3.055934</td>\n",
       "      <td>0</td>\n",
       "    </tr>\n",
       "    <tr>\n",
       "      <th>3</th>\n",
       "      <td>8.316766</td>\n",
       "      <td>214.373394</td>\n",
       "      <td>22018.417441</td>\n",
       "      <td>8.059332</td>\n",
       "      <td>356.886136</td>\n",
       "      <td>363.266516</td>\n",
       "      <td>18.436524</td>\n",
       "      <td>100.341674</td>\n",
       "      <td>4.628771</td>\n",
       "      <td>0</td>\n",
       "    </tr>\n",
       "    <tr>\n",
       "      <th>4</th>\n",
       "      <td>9.092223</td>\n",
       "      <td>181.101509</td>\n",
       "      <td>17978.986339</td>\n",
       "      <td>6.546600</td>\n",
       "      <td>310.135738</td>\n",
       "      <td>398.410813</td>\n",
       "      <td>11.558279</td>\n",
       "      <td>31.997993</td>\n",
       "      <td>4.075075</td>\n",
       "      <td>0</td>\n",
       "    </tr>\n",
       "  </tbody>\n",
       "</table>\n",
       "</div>"
      ],
      "text/plain": [
       "         ph    Hardness        Solids  Chloramines     Sulfate  Conductivity  \\\n",
       "0       NaN  204.890455  20791.318981     7.300212  368.516441    564.308654   \n",
       "1  3.716080  129.422921  18630.057858     6.635246         NaN    592.885359   \n",
       "2  8.099124  224.236259  19909.541732     9.275884         NaN    418.606213   \n",
       "3  8.316766  214.373394  22018.417441     8.059332  356.886136    363.266516   \n",
       "4  9.092223  181.101509  17978.986339     6.546600  310.135738    398.410813   \n",
       "\n",
       "   Organic_carbon  Trihalomethanes  Turbidity  Potability  \n",
       "0       10.379783        86.990970   2.963135           0  \n",
       "1       15.180013        56.329076   4.500656           0  \n",
       "2       16.868637        66.420093   3.055934           0  \n",
       "3       18.436524       100.341674   4.628771           0  \n",
       "4       11.558279        31.997993   4.075075           0  "
      ]
     },
     "execution_count": 13,
     "metadata": {},
     "output_type": "execute_result"
    }
   ],
   "source": [
    "df = pd.read_csv('../data/water_potability.csv')\n",
    "df.head()"
   ]
  },
  {
   "cell_type": "markdown",
   "id": "colored-charge",
   "metadata": {
    "papermill": {
     "duration": 0.026109,
     "end_time": "2021-09-03T22:10:27.411919",
     "exception": false,
     "start_time": "2021-09-03T22:10:27.385810",
     "status": "completed"
    },
    "tags": []
   },
   "source": [
    "# Data Explanation\n",
    "* ph: pH of 1. water (0 to 14).\n",
    "* Hardness: Capacity of water to precipitate soap in mg/L.\n",
    "* Solids: Total dissolved solids in ppm.\n",
    "* Chloramines: Amount of Chloramines in ppm.\n",
    "* Sulfate: Amount of Sulfates dissolved in mg/L.\n",
    "* Conductivity: Electrical conductivity of water in μS/cm.\n",
    "* Organic_carbon: Amount of organic carbon in ppm.\n",
    "* Trihalomethanes: Amount of Trihalomethanes in μg/L.\n",
    "* Turbidity: Measure of light emiting property of water in NTU.\n",
    "* Potability: Indicates if water is safe for human consumption. Potable - 1 and Not potable - 0"
   ]
  },
  {
   "cell_type": "code",
   "execution_count": 14,
   "id": "thousand-occasions",
   "metadata": {
    "execution": {
     "iopub.execute_input": "2021-09-03T22:10:27.467791Z",
     "iopub.status.busy": "2021-09-03T22:10:27.466925Z",
     "iopub.status.idle": "2021-09-03T22:10:27.492034Z",
     "shell.execute_reply": "2021-09-03T22:10:27.492545Z",
     "shell.execute_reply.started": "2021-09-03T22:04:22.510596Z"
    },
    "papermill": {
     "duration": 0.054406,
     "end_time": "2021-09-03T22:10:27.492719",
     "exception": false,
     "start_time": "2021-09-03T22:10:27.438313",
     "status": "completed"
    },
    "tags": []
   },
   "outputs": [
    {
     "name": "stdout",
     "output_type": "stream",
     "text": [
      "<class 'pandas.core.frame.DataFrame'>\n",
      "RangeIndex: 3276 entries, 0 to 3275\n",
      "Data columns (total 10 columns):\n",
      " #   Column           Non-Null Count  Dtype  \n",
      "---  ------           --------------  -----  \n",
      " 0   ph               2785 non-null   float64\n",
      " 1   Hardness         3276 non-null   float64\n",
      " 2   Solids           3276 non-null   float64\n",
      " 3   Chloramines      3276 non-null   float64\n",
      " 4   Sulfate          2495 non-null   float64\n",
      " 5   Conductivity     3276 non-null   float64\n",
      " 6   Organic_carbon   3276 non-null   float64\n",
      " 7   Trihalomethanes  3114 non-null   float64\n",
      " 8   Turbidity        3276 non-null   float64\n",
      " 9   Potability       3276 non-null   int64  \n",
      "dtypes: float64(9), int64(1)\n",
      "memory usage: 256.1 KB\n"
     ]
    }
   ],
   "source": [
    "df.info()"
   ]
  },
  {
   "cell_type": "markdown",
   "id": "robust-climb",
   "metadata": {
    "papermill": {
     "duration": 0.026077,
     "end_time": "2021-09-03T22:10:27.545412",
     "exception": false,
     "start_time": "2021-09-03T22:10:27.519335",
     "status": "completed"
    },
    "tags": []
   },
   "source": [
    "# Exploratory Data Analysis"
   ]
  },
  {
   "cell_type": "markdown",
   "id": "stunning-qatar",
   "metadata": {
    "papermill": {
     "duration": 0.025855,
     "end_time": "2021-09-03T22:10:27.597570",
     "exception": false,
     "start_time": "2021-09-03T22:10:27.571715",
     "status": "completed"
    },
    "tags": []
   },
   "source": [
    "### Check the imbalance dataset"
   ]
  },
  {
   "cell_type": "code",
   "execution_count": 15,
   "id": "angry-venue",
   "metadata": {
    "execution": {
     "iopub.execute_input": "2021-09-03T22:10:27.660708Z",
     "iopub.status.busy": "2021-09-03T22:10:27.659982Z",
     "iopub.status.idle": "2021-09-03T22:10:27.870674Z",
     "shell.execute_reply": "2021-09-03T22:10:27.871489Z",
     "shell.execute_reply.started": "2021-09-03T22:04:22.542944Z"
    },
    "papermill": {
     "duration": 0.247762,
     "end_time": "2021-09-03T22:10:27.871714",
     "exception": false,
     "start_time": "2021-09-03T22:10:27.623952",
     "status": "completed"
    },
    "tags": []
   },
   "outputs": [
    {
     "ename": "ValueError",
     "evalue": "number of labels (1) does not match number of bars (10).",
     "output_type": "error",
     "traceback": [
      "\u001b[1;31m---------------------------------------------------------------------------\u001b[0m",
      "\u001b[1;31mValueError\u001b[0m                                Traceback (most recent call last)",
      "Cell \u001b[1;32mIn[15], line 6\u001b[0m\n\u001b[0;32m      4\u001b[0m \u001b[38;5;28;01mfor\u001b[39;00m i, df_visualize \u001b[38;5;129;01min\u001b[39;00m \u001b[38;5;28menumerate\u001b[39m(df\u001b[38;5;241m.\u001b[39mgroupby([\u001b[38;5;124m\"\u001b[39m\u001b[38;5;124mPotability\u001b[39m\u001b[38;5;124m\"\u001b[39m])):\n\u001b[0;32m      5\u001b[0m     labels\u001b[38;5;241m.\u001b[39mappend(df_visualize[\u001b[38;5;241m0\u001b[39m])\n\u001b[1;32m----> 6\u001b[0m     \u001b[43mplt\u001b[49m\u001b[38;5;241;43m.\u001b[39;49m\u001b[43mbar\u001b[49m\u001b[43m(\u001b[49m\u001b[43mi\u001b[49m\u001b[43m,\u001b[49m\u001b[43m \u001b[49m\u001b[43mdf_visualize\u001b[49m\u001b[43m[\u001b[49m\u001b[38;5;241;43m1\u001b[39;49m\u001b[43m]\u001b[49m\u001b[38;5;241;43m.\u001b[39;49m\u001b[43mcount\u001b[49m\u001b[43m(\u001b[49m\u001b[43m)\u001b[49m\u001b[43m,\u001b[49m\u001b[43m \u001b[49m\u001b[43mlabel\u001b[49m\u001b[38;5;241;43m=\u001b[39;49m\u001b[43mdf_visualize\u001b[49m\u001b[43m[\u001b[49m\u001b[38;5;241;43m0\u001b[39;49m\u001b[43m]\u001b[49m\u001b[43m)\u001b[49m\n\u001b[0;32m      7\u001b[0m plt\u001b[38;5;241m.\u001b[39mxticks(\u001b[38;5;28mrange\u001b[39m(\u001b[38;5;28mlen\u001b[39m(labels)), labels)\n\u001b[0;32m      8\u001b[0m plt\u001b[38;5;241m.\u001b[39mlegend()\n",
      "File \u001b[1;32mc:\\Users\\user\\My ML Projects\\Water Quality Predictor\\venv\\lib\\site-packages\\matplotlib\\pyplot.py:2739\u001b[0m, in \u001b[0;36mbar\u001b[1;34m(x, height, width, bottom, align, data, **kwargs)\u001b[0m\n\u001b[0;32m   2728\u001b[0m \u001b[38;5;129m@_copy_docstring_and_deprecators\u001b[39m(Axes\u001b[38;5;241m.\u001b[39mbar)\n\u001b[0;32m   2729\u001b[0m \u001b[38;5;28;01mdef\u001b[39;00m \u001b[38;5;21mbar\u001b[39m(\n\u001b[0;32m   2730\u001b[0m     x: \u001b[38;5;28mfloat\u001b[39m \u001b[38;5;241m|\u001b[39m ArrayLike,\n\u001b[1;32m   (...)\u001b[0m\n\u001b[0;32m   2737\u001b[0m     \u001b[38;5;241m*\u001b[39m\u001b[38;5;241m*\u001b[39mkwargs,\n\u001b[0;32m   2738\u001b[0m ) \u001b[38;5;241m-\u001b[39m\u001b[38;5;241m>\u001b[39m BarContainer:\n\u001b[1;32m-> 2739\u001b[0m     \u001b[38;5;28;01mreturn\u001b[39;00m gca()\u001b[38;5;241m.\u001b[39mbar(\n\u001b[0;32m   2740\u001b[0m         x,\n\u001b[0;32m   2741\u001b[0m         height,\n\u001b[0;32m   2742\u001b[0m         width\u001b[38;5;241m=\u001b[39mwidth,\n\u001b[0;32m   2743\u001b[0m         bottom\u001b[38;5;241m=\u001b[39mbottom,\n\u001b[0;32m   2744\u001b[0m         align\u001b[38;5;241m=\u001b[39malign,\n\u001b[0;32m   2745\u001b[0m         \u001b[38;5;241m*\u001b[39m\u001b[38;5;241m*\u001b[39m({\u001b[38;5;124m\"\u001b[39m\u001b[38;5;124mdata\u001b[39m\u001b[38;5;124m\"\u001b[39m: data} \u001b[38;5;28;01mif\u001b[39;00m data \u001b[38;5;129;01mis\u001b[39;00m \u001b[38;5;129;01mnot\u001b[39;00m \u001b[38;5;28;01mNone\u001b[39;00m \u001b[38;5;28;01melse\u001b[39;00m {}),\n\u001b[0;32m   2746\u001b[0m         \u001b[38;5;241m*\u001b[39m\u001b[38;5;241m*\u001b[39mkwargs,\n\u001b[0;32m   2747\u001b[0m     )\n",
      "File \u001b[1;32mc:\\Users\\user\\My ML Projects\\Water Quality Predictor\\venv\\lib\\site-packages\\matplotlib\\__init__.py:1478\u001b[0m, in \u001b[0;36m_preprocess_data.<locals>.inner\u001b[1;34m(ax, data, *args, **kwargs)\u001b[0m\n\u001b[0;32m   1475\u001b[0m \u001b[38;5;129m@functools\u001b[39m\u001b[38;5;241m.\u001b[39mwraps(func)\n\u001b[0;32m   1476\u001b[0m \u001b[38;5;28;01mdef\u001b[39;00m \u001b[38;5;21minner\u001b[39m(ax, \u001b[38;5;241m*\u001b[39margs, data\u001b[38;5;241m=\u001b[39m\u001b[38;5;28;01mNone\u001b[39;00m, \u001b[38;5;241m*\u001b[39m\u001b[38;5;241m*\u001b[39mkwargs):\n\u001b[0;32m   1477\u001b[0m     \u001b[38;5;28;01mif\u001b[39;00m data \u001b[38;5;129;01mis\u001b[39;00m \u001b[38;5;28;01mNone\u001b[39;00m:\n\u001b[1;32m-> 1478\u001b[0m         \u001b[38;5;28;01mreturn\u001b[39;00m func(ax, \u001b[38;5;241m*\u001b[39m\u001b[38;5;28mmap\u001b[39m(sanitize_sequence, args), \u001b[38;5;241m*\u001b[39m\u001b[38;5;241m*\u001b[39mkwargs)\n\u001b[0;32m   1480\u001b[0m     bound \u001b[38;5;241m=\u001b[39m new_sig\u001b[38;5;241m.\u001b[39mbind(ax, \u001b[38;5;241m*\u001b[39margs, \u001b[38;5;241m*\u001b[39m\u001b[38;5;241m*\u001b[39mkwargs)\n\u001b[0;32m   1481\u001b[0m     auto_label \u001b[38;5;241m=\u001b[39m (bound\u001b[38;5;241m.\u001b[39marguments\u001b[38;5;241m.\u001b[39mget(label_namer)\n\u001b[0;32m   1482\u001b[0m                   \u001b[38;5;129;01mor\u001b[39;00m bound\u001b[38;5;241m.\u001b[39mkwargs\u001b[38;5;241m.\u001b[39mget(label_namer))\n",
      "File \u001b[1;32mc:\\Users\\user\\My ML Projects\\Water Quality Predictor\\venv\\lib\\site-packages\\matplotlib\\axes\\_axes.py:2476\u001b[0m, in \u001b[0;36mAxes.bar\u001b[1;34m(self, x, height, width, bottom, align, **kwargs)\u001b[0m\n\u001b[0;32m   2474\u001b[0m     patch_labels \u001b[38;5;241m=\u001b[39m [\u001b[38;5;124m'\u001b[39m\u001b[38;5;124m_nolegend_\u001b[39m\u001b[38;5;124m'\u001b[39m] \u001b[38;5;241m*\u001b[39m \u001b[38;5;28mlen\u001b[39m(x)\n\u001b[0;32m   2475\u001b[0m \u001b[38;5;28;01mif\u001b[39;00m \u001b[38;5;28mlen\u001b[39m(patch_labels) \u001b[38;5;241m!=\u001b[39m \u001b[38;5;28mlen\u001b[39m(x):\n\u001b[1;32m-> 2476\u001b[0m     \u001b[38;5;28;01mraise\u001b[39;00m \u001b[38;5;167;01mValueError\u001b[39;00m(\u001b[38;5;124mf\u001b[39m\u001b[38;5;124m'\u001b[39m\u001b[38;5;124mnumber of labels (\u001b[39m\u001b[38;5;132;01m{\u001b[39;00m\u001b[38;5;28mlen\u001b[39m(patch_labels)\u001b[38;5;132;01m}\u001b[39;00m\u001b[38;5;124m) \u001b[39m\u001b[38;5;124m'\u001b[39m\n\u001b[0;32m   2477\u001b[0m                      \u001b[38;5;124mf\u001b[39m\u001b[38;5;124m'\u001b[39m\u001b[38;5;124mdoes not match number of bars (\u001b[39m\u001b[38;5;132;01m{\u001b[39;00m\u001b[38;5;28mlen\u001b[39m(x)\u001b[38;5;132;01m}\u001b[39;00m\u001b[38;5;124m).\u001b[39m\u001b[38;5;124m'\u001b[39m)\n\u001b[0;32m   2479\u001b[0m linewidth \u001b[38;5;241m=\u001b[39m itertools\u001b[38;5;241m.\u001b[39mcycle(np\u001b[38;5;241m.\u001b[39matleast_1d(linewidth))\n\u001b[0;32m   2480\u001b[0m hatch \u001b[38;5;241m=\u001b[39m itertools\u001b[38;5;241m.\u001b[39mcycle(np\u001b[38;5;241m.\u001b[39matleast_1d(hatch))\n",
      "\u001b[1;31mValueError\u001b[0m: number of labels (1) does not match number of bars (10)."
     ]
    },
    {
     "data": {
      "image/png": "[encoded data removed]",
      "text/plain": [
       "<Figure size 640x480 with 1 Axes>"
      ]
     },
     "metadata": {},
     "output_type": "display_data"
    }
   ],
   "source": [
    "import matplotlib.pyplot as plt\n",
    "\n",
    "labels = []\n",
    "for i, df_visualize in enumerate(df.groupby([\"Potability\"])):\n",
    "    labels.append(df_visualize[0])\n",
    "    plt.bar(i, df_visualize[1].count(), label=df_visualize[0])\n",
    "plt.xticks(range(len(labels)), labels)\n",
    "plt.legend()\n",
    "plt.title('Potability')\n",
    "plt.show()"
   ]
  },
  {
   "cell_type": "code",
   "execution_count": null,
   "id": "animated-address",
   "metadata": {
    "execution": {
     "iopub.execute_input": "2021-09-03T22:10:27.948747Z",
     "iopub.status.busy": "2021-09-03T22:10:27.947998Z",
     "iopub.status.idle": "2021-09-03T22:10:28.052555Z",
     "shell.execute_reply": "2021-09-03T22:10:28.052091Z",
     "shell.execute_reply.started": "2021-09-03T22:04:22.763982Z"
    },
    "papermill": {
     "duration": 0.149292,
     "end_time": "2021-09-03T22:10:28.052691",
     "exception": false,
     "start_time": "2021-09-03T22:10:27.903399",
     "status": "completed"
    },
    "tags": []
   },
   "outputs": [],
   "source": [
    "data = df.groupby(\"Potability\")[\"ph\"].sum()\n",
    "pie, ax = plt.subplots(figsize=[10,6])\n",
    "labels = data.keys()\n",
    "plt.pie(x=data, autopct=\"%.1f%%\", labels=labels, pctdistance=0.5)\n",
    "plt.title(\"Potability\", fontsize=14)"
   ]
  },
  {
   "cell_type": "markdown",
   "id": "unavailable-pharmacology",
   "metadata": {
    "papermill": {
     "duration": 0.028655,
     "end_time": "2021-09-03T22:10:28.110191",
     "exception": false,
     "start_time": "2021-09-03T22:10:28.081536",
     "status": "completed"
    },
    "tags": []
   },
   "source": [
    "### Check the histogram of the data"
   ]
  },
  {
   "cell_type": "code",
   "execution_count": null,
   "id": "important-woman",
   "metadata": {
    "execution": {
     "iopub.execute_input": "2021-09-03T22:10:28.172493Z",
     "iopub.status.busy": "2021-09-03T22:10:28.171899Z",
     "iopub.status.idle": "2021-09-03T22:10:29.518373Z",
     "shell.execute_reply": "2021-09-03T22:10:29.518853Z",
     "shell.execute_reply.started": "2021-09-03T22:04:22.859647Z"
    },
    "papermill": {
     "duration": 1.379985,
     "end_time": "2021-09-03T22:10:29.519036",
     "exception": false,
     "start_time": "2021-09-03T22:10:28.139051",
     "status": "completed"
    },
    "tags": []
   },
   "outputs": [],
   "source": [
    "df.hist(figsize=(15,15))\n",
    "plt.show()"
   ]
  },
  {
   "cell_type": "markdown",
   "id": "interesting-glance",
   "metadata": {
    "papermill": {
     "duration": 0.029989,
     "end_time": "2021-09-03T22:10:29.579783",
     "exception": false,
     "start_time": "2021-09-03T22:10:29.549794",
     "status": "completed"
    },
    "tags": []
   },
   "source": [
    "### Check the correlation of each column"
   ]
  },
  {
   "cell_type": "code",
   "execution_count": null,
   "id": "opponent-reminder",
   "metadata": {
    "execution": {
     "iopub.execute_input": "2021-09-03T22:10:29.644247Z",
     "iopub.status.busy": "2021-09-03T22:10:29.643318Z",
     "iopub.status.idle": "2021-09-03T22:10:29.664050Z",
     "shell.execute_reply": "2021-09-03T22:10:29.663530Z",
     "shell.execute_reply.started": "2021-09-03T22:04:24.151072Z"
    },
    "papermill": {
     "duration": 0.054046,
     "end_time": "2021-09-03T22:10:29.664195",
     "exception": false,
     "start_time": "2021-09-03T22:10:29.610149",
     "status": "completed"
    },
    "tags": []
   },
   "outputs": [],
   "source": [
    "df.corr()"
   ]
  },
  {
   "cell_type": "code",
   "execution_count": null,
   "id": "needed-detector",
   "metadata": {
    "execution": {
     "iopub.execute_input": "2021-09-03T22:10:29.731367Z",
     "iopub.status.busy": "2021-09-03T22:10:29.730764Z",
     "iopub.status.idle": "2021-09-03T22:10:31.513813Z",
     "shell.execute_reply": "2021-09-03T22:10:31.514522Z",
     "shell.execute_reply.started": "2021-09-03T22:04:24.174064Z"
    },
    "papermill": {
     "duration": 1.819584,
     "end_time": "2021-09-03T22:10:31.514701",
     "exception": false,
     "start_time": "2021-09-03T22:10:29.695117",
     "status": "completed"
    },
    "tags": []
   },
   "outputs": [],
   "source": [
    "import seaborn as sb\n",
    "\n",
    "\n",
    "plt.figure(figsize=(12,10))\n",
    "sb.heatmap(df.corr(), annot=True)"
   ]
  },
  {
   "cell_type": "code",
   "execution_count": null,
   "id": "divine-tours",
   "metadata": {
    "execution": {
     "iopub.execute_input": "2021-09-03T22:10:31.586005Z",
     "iopub.status.busy": "2021-09-03T22:10:31.585095Z",
     "iopub.status.idle": "2021-09-03T22:10:31.596159Z",
     "shell.execute_reply": "2021-09-03T22:10:31.595544Z",
     "shell.execute_reply.started": "2021-09-03T22:04:26.036428Z"
    },
    "papermill": {
     "duration": 0.047079,
     "end_time": "2021-09-03T22:10:31.596307",
     "exception": false,
     "start_time": "2021-09-03T22:10:31.549228",
     "status": "completed"
    },
    "tags": []
   },
   "outputs": [],
   "source": [
    "df[df.columns[1:]].corr()['Potability'][:].sort_values(ascending=False)"
   ]
  },
  {
   "cell_type": "markdown",
   "id": "encouraging-bosnia",
   "metadata": {
    "papermill": {
     "duration": 0.032944,
     "end_time": "2021-09-03T22:10:31.662101",
     "exception": false,
     "start_time": "2021-09-03T22:10:31.629157",
     "status": "completed"
    },
    "tags": []
   },
   "source": [
    "### Check the null value of the data"
   ]
  },
  {
   "cell_type": "code",
   "execution_count": null,
   "id": "minute-implementation",
   "metadata": {
    "execution": {
     "iopub.execute_input": "2021-09-03T22:10:31.735468Z",
     "iopub.status.busy": "2021-09-03T22:10:31.732819Z",
     "iopub.status.idle": "2021-09-03T22:10:31.739526Z",
     "shell.execute_reply": "2021-09-03T22:10:31.738960Z",
     "shell.execute_reply.started": "2021-09-03T22:04:26.048931Z"
    },
    "papermill": {
     "duration": 0.044556,
     "end_time": "2021-09-03T22:10:31.739663",
     "exception": false,
     "start_time": "2021-09-03T22:10:31.695107",
     "status": "completed"
    },
    "tags": []
   },
   "outputs": [],
   "source": [
    "df.isnull().sum()"
   ]
  },
  {
   "cell_type": "markdown",
   "id": "isolated-calcium",
   "metadata": {
    "papermill": {
     "duration": 0.033612,
     "end_time": "2021-09-03T22:10:31.807172",
     "exception": false,
     "start_time": "2021-09-03T22:10:31.773560",
     "status": "completed"
    },
    "tags": []
   },
   "source": [
    "### Fill the null value with the **median** value"
   ]
  },
  {
   "cell_type": "code",
   "execution_count": 16,
   "id": "floating-delivery",
   "metadata": {
    "execution": {
     "iopub.execute_input": "2021-09-03T22:10:31.881514Z",
     "iopub.status.busy": "2021-09-03T22:10:31.880862Z",
     "iopub.status.idle": "2021-09-03T22:10:31.888475Z",
     "shell.execute_reply": "2021-09-03T22:10:31.887995Z",
     "shell.execute_reply.started": "2021-09-03T22:04:26.065178Z"
    },
    "papermill": {
     "duration": 0.047385,
     "end_time": "2021-09-03T22:10:31.888614",
     "exception": false,
     "start_time": "2021-09-03T22:10:31.841229",
     "status": "completed"
    },
    "tags": []
   },
   "outputs": [],
   "source": [
    "df['ph'].fillna(value=df['ph'].median(),inplace=True)\n",
    "df['Sulfate'].fillna(value=df['Sulfate'].median(),inplace=True)\n",
    "df['Trihalomethanes'].fillna(value=df['Trihalomethanes'].median(),inplace=True)"
   ]
  },
  {
   "cell_type": "code",
   "execution_count": 17,
   "id": "alpine-wales",
   "metadata": {
    "execution": {
     "iopub.execute_input": "2021-09-03T22:10:31.960527Z",
     "iopub.status.busy": "2021-09-03T22:10:31.959935Z",
     "iopub.status.idle": "2021-09-03T22:10:31.965367Z",
     "shell.execute_reply": "2021-09-03T22:10:31.965789Z",
     "shell.execute_reply.started": "2021-09-03T22:04:26.082762Z"
    },
    "papermill": {
     "duration": 0.043465,
     "end_time": "2021-09-03T22:10:31.965974",
     "exception": false,
     "start_time": "2021-09-03T22:10:31.922509",
     "status": "completed"
    },
    "tags": []
   },
   "outputs": [
    {
     "data": {
      "text/plain": [
       "ph                 0\n",
       "Hardness           0\n",
       "Solids             0\n",
       "Chloramines        0\n",
       "Sulfate            0\n",
       "Conductivity       0\n",
       "Organic_carbon     0\n",
       "Trihalomethanes    0\n",
       "Turbidity          0\n",
       "Potability         0\n",
       "dtype: int64"
      ]
     },
     "execution_count": 17,
     "metadata": {},
     "output_type": "execute_result"
    }
   ],
   "source": [
    "df.isnull().sum()"
   ]
  },
  {
   "cell_type": "markdown",
   "id": "editorial-terry",
   "metadata": {
    "papermill": {
     "duration": 0.033831,
     "end_time": "2021-09-03T22:10:32.033605",
     "exception": false,
     "start_time": "2021-09-03T22:10:31.999774",
     "status": "completed"
    },
    "tags": []
   },
   "source": [
    "### Normalize Data using **MinMaxScaler**"
   ]
  },
  {
   "cell_type": "code",
   "execution_count": 18,
   "id": "solar-venture",
   "metadata": {
    "execution": {
     "iopub.execute_input": "2021-09-03T22:10:32.105591Z",
     "iopub.status.busy": "2021-09-03T22:10:32.105015Z",
     "iopub.status.idle": "2021-09-03T22:10:32.110237Z",
     "shell.execute_reply": "2021-09-03T22:10:32.110682Z",
     "shell.execute_reply.started": "2021-09-03T22:04:26.093856Z"
    },
    "papermill": {
     "duration": 0.043682,
     "end_time": "2021-09-03T22:10:32.110882",
     "exception": false,
     "start_time": "2021-09-03T22:10:32.067200",
     "status": "completed"
    },
    "tags": []
   },
   "outputs": [],
   "source": [
    "x = df.drop(['Potability'], axis='columns')\n",
    "y = df.Potability"
   ]
  },
  {
   "cell_type": "code",
   "execution_count": 19,
   "id": "automotive-voluntary",
   "metadata": {
    "execution": {
     "iopub.execute_input": "2021-09-03T22:10:32.181197Z",
     "iopub.status.busy": "2021-09-03T22:10:32.180580Z",
     "iopub.status.idle": "2021-09-03T22:10:32.326186Z",
     "shell.execute_reply": "2021-09-03T22:10:32.325558Z",
     "shell.execute_reply.started": "2021-09-03T22:04:26.106370Z"
    },
    "papermill": {
     "duration": 0.181999,
     "end_time": "2021-09-03T22:10:32.326345",
     "exception": false,
     "start_time": "2021-09-03T22:10:32.144346",
     "status": "completed"
    },
    "tags": []
   },
   "outputs": [
    {
     "data": {
      "text/plain": [
       "array([[0.50262515, 0.57113901, 0.33609646, ..., 0.31340165, 0.69975313,\n",
       "        0.28609102],\n",
       "       [0.26543429, 0.29740043, 0.30061142, ..., 0.49731851, 0.4509993 ,\n",
       "        0.57679264],\n",
       "       [0.57850887, 0.64131081, 0.32161885, ..., 0.56201674, 0.5328657 ,\n",
       "        0.30363656],\n",
       "       ...,\n",
       "       [0.67282217, 0.46548556, 0.53910122, ..., 0.33866167, 0.56065454,\n",
       "        0.34956996],\n",
       "       [0.36619735, 0.66440723, 0.19148981, ..., 0.34363779, 0.62265916,\n",
       "        0.61611996],\n",
       "       [0.56247653, 0.53563505, 0.28048408, ..., 0.5341137 , 0.63247754,\n",
       "        0.16244074]])"
      ]
     },
     "execution_count": 19,
     "metadata": {},
     "output_type": "execute_result"
    }
   ],
   "source": [
    "from sklearn.preprocessing import MinMaxScaler\n",
    "\n",
    "\n",
    "features_scaler = MinMaxScaler()\n",
    "features = features_scaler.fit_transform(x)\n",
    "features"
   ]
  },
  {
   "cell_type": "markdown",
   "id": "handmade-detail",
   "metadata": {
    "papermill": {
     "duration": 0.033705,
     "end_time": "2021-09-03T22:10:32.393794",
     "exception": false,
     "start_time": "2021-09-03T22:10:32.360089",
     "status": "completed"
    },
    "tags": []
   },
   "source": [
    "### Cross Validation and Hyperparameter Tuning"
   ]
  },
  {
   "cell_type": "code",
   "execution_count": 20,
   "id": "starting-board",
   "metadata": {
    "execution": {
     "iopub.execute_input": "2021-09-03T22:10:32.468471Z",
     "iopub.status.busy": "2021-09-03T22:10:32.467743Z",
     "iopub.status.idle": "2021-09-03T22:10:32.756412Z",
     "shell.execute_reply": "2021-09-03T22:10:32.755802Z",
     "shell.execute_reply.started": "2021-09-03T22:04:26.252336Z"
    },
    "papermill": {
     "duration": 0.328818,
     "end_time": "2021-09-03T22:10:32.756568",
     "exception": false,
     "start_time": "2021-09-03T22:10:32.427750",
     "status": "completed"
    },
    "tags": []
   },
   "outputs": [],
   "source": [
    "from sklearn.svm import SVC\n",
    "from sklearn.ensemble import RandomForestClassifier\n",
    "from sklearn.linear_model import LogisticRegression\n",
    "from sklearn.neighbors import KNeighborsClassifier\n",
    "from sklearn.tree import DecisionTreeClassifier\n",
    "\n",
    "model_params = {\n",
    "    'svm': {\n",
    "        'model': SVC(gamma='auto'),\n",
    "        'params' : {\n",
    "            'C': [1,10,20,30,50],\n",
    "            'kernel': ['rbf','linear','poly']\n",
    "        }  \n",
    "    },\n",
    "    'random_forest': {\n",
    "        'model': RandomForestClassifier(),\n",
    "        'params' : {\n",
    "            'n_estimators': [10,50,100]\n",
    "        }\n",
    "    },\n",
    "    'logistic_regression' : {\n",
    "        'model': LogisticRegression(solver='liblinear',multi_class='auto'),\n",
    "        'params': {\n",
    "            'C': [1,5,10]\n",
    "        }\n",
    "    },\n",
    "    'KNN' : {\n",
    "        'model': KNeighborsClassifier(),\n",
    "        'params': {\n",
    "            'n_neighbors': [3,7,11,13]\n",
    "        }\n",
    "    }\n",
    "    \n",
    "}"
   ]
  },
  {
   "cell_type": "code",
   "execution_count": 21,
   "id": "surgical-providence",
   "metadata": {
    "execution": {
     "iopub.execute_input": "2021-09-03T22:10:32.833136Z",
     "iopub.status.busy": "2021-09-03T22:10:32.832489Z",
     "iopub.status.idle": "2021-09-03T22:11:07.730229Z",
     "shell.execute_reply": "2021-09-03T22:11:07.730680Z",
     "shell.execute_reply.started": "2021-09-03T22:04:26.530414Z"
    },
    "papermill": {
     "duration": 34.939692,
     "end_time": "2021-09-03T22:11:07.730868",
     "exception": false,
     "start_time": "2021-09-03T22:10:32.791176",
     "status": "completed"
    },
    "tags": []
   },
   "outputs": [
    {
     "data": {
      "text/html": [
       "<div>\n",
       "<style scoped>\n",
       "    .dataframe tbody tr th:only-of-type {\n",
       "        vertical-align: middle;\n",
       "    }\n",
       "\n",
       "    .dataframe tbody tr th {\n",
       "        vertical-align: top;\n",
       "    }\n",
       "\n",
       "    .dataframe thead th {\n",
       "        text-align: right;\n",
       "    }\n",
       "</style>\n",
       "<table border=\"1\" class=\"dataframe\">\n",
       "  <thead>\n",
       "    <tr style=\"text-align: right;\">\n",
       "      <th></th>\n",
       "      <th>model</th>\n",
       "      <th>best_score</th>\n",
       "      <th>best_params</th>\n",
       "    </tr>\n",
       "  </thead>\n",
       "  <tbody>\n",
       "    <tr>\n",
       "      <th>0</th>\n",
       "      <td>svm</td>\n",
       "      <td>0.621794</td>\n",
       "      <td>{'C': 50, 'kernel': 'rbf'}</td>\n",
       "    </tr>\n",
       "    <tr>\n",
       "      <th>1</th>\n",
       "      <td>random_forest</td>\n",
       "      <td>0.629738</td>\n",
       "      <td>{'n_estimators': 100}</td>\n",
       "    </tr>\n",
       "    <tr>\n",
       "      <th>2</th>\n",
       "      <td>logistic_regression</td>\n",
       "      <td>0.610501</td>\n",
       "      <td>{'C': 1}</td>\n",
       "    </tr>\n",
       "    <tr>\n",
       "      <th>3</th>\n",
       "      <td>KNN</td>\n",
       "      <td>0.613859</td>\n",
       "      <td>{'n_neighbors': 13}</td>\n",
       "    </tr>\n",
       "  </tbody>\n",
       "</table>\n",
       "</div>"
      ],
      "text/plain": [
       "                 model  best_score                 best_params\n",
       "0                  svm    0.621794  {'C': 50, 'kernel': 'rbf'}\n",
       "1        random_forest    0.629738       {'n_estimators': 100}\n",
       "2  logistic_regression    0.610501                    {'C': 1}\n",
       "3                  KNN    0.613859         {'n_neighbors': 13}"
      ]
     },
     "execution_count": 21,
     "metadata": {},
     "output_type": "execute_result"
    }
   ],
   "source": [
    "from sklearn.model_selection import GridSearchCV\n",
    "scores = []\n",
    "\n",
    "for model_name, mp in model_params.items():\n",
    "    clf =  GridSearchCV(mp['model'], mp['params'], cv=5, return_train_score=False)\n",
    "    clf.fit(features, y)\n",
    "    scores.append({\n",
    "        'model': model_name,\n",
    "        'best_score': clf.best_score_,\n",
    "        'best_params': clf.best_params_\n",
    "    })\n",
    "    \n",
    "df_score = pd.DataFrame(scores,columns=['model','best_score','best_params'])\n",
    "df_score"
   ]
  },
  {
   "cell_type": "code",
   "execution_count": 22,
   "id": "western-search",
   "metadata": {
    "execution": {
     "iopub.execute_input": "2021-09-03T22:11:07.832106Z",
     "iopub.status.busy": "2021-09-03T22:11:07.804983Z",
     "iopub.status.idle": "2021-09-03T22:11:07.929975Z",
     "shell.execute_reply": "2021-09-03T22:11:07.929458Z",
     "shell.execute_reply.started": "2021-09-03T22:05:00.652731Z"
    },
    "papermill": {
     "duration": 0.165036,
     "end_time": "2021-09-03T22:11:07.930122",
     "exception": false,
     "start_time": "2021-09-03T22:11:07.765086",
     "status": "completed"
    },
    "tags": []
   },
   "outputs": [
    {
     "ename": "NameError",
     "evalue": "name 'sb' is not defined",
     "output_type": "error",
     "traceback": [
      "\u001b[1;31m---------------------------------------------------------------------------\u001b[0m",
      "\u001b[1;31mNameError\u001b[0m                                 Traceback (most recent call last)",
      "Cell \u001b[1;32mIn[22], line 1\u001b[0m\n\u001b[1;32m----> 1\u001b[0m \u001b[43msb\u001b[49m\u001b[38;5;241m.\u001b[39mbarplot(x\u001b[38;5;241m=\u001b[39m\u001b[38;5;124m\"\u001b[39m\u001b[38;5;124mmodel\u001b[39m\u001b[38;5;124m\"\u001b[39m, y\u001b[38;5;241m=\u001b[39m\u001b[38;5;124m\"\u001b[39m\u001b[38;5;124mbest_score\u001b[39m\u001b[38;5;124m\"\u001b[39m, data\u001b[38;5;241m=\u001b[39mdf_score)\n\u001b[0;32m      2\u001b[0m plt\u001b[38;5;241m.\u001b[39mylim(\u001b[38;5;241m0\u001b[39m, \u001b[38;5;241m1\u001b[39m)\n",
      "\u001b[1;31mNameError\u001b[0m: name 'sb' is not defined"
     ]
    }
   ],
   "source": [
    "sb.barplot(x=\"model\", y=\"best_score\", data=df_score)\n",
    "plt.ylim(0, 1)"
   ]
  },
  {
   "cell_type": "markdown",
   "id": "fitted-millennium",
   "metadata": {
    "papermill": {
     "duration": 0.035156,
     "end_time": "2021-09-03T22:11:08.001100",
     "exception": false,
     "start_time": "2021-09-03T22:11:07.965944",
     "status": "completed"
    },
    "tags": []
   },
   "source": [
    "### Find the best alghoirtm and the best parameter"
   ]
  },
  {
   "cell_type": "code",
   "execution_count": 23,
   "id": "purple-beach",
   "metadata": {
    "execution": {
     "iopub.execute_input": "2021-09-03T22:11:08.084160Z",
     "iopub.status.busy": "2021-09-03T22:11:08.083296Z",
     "iopub.status.idle": "2021-09-03T22:11:08.086792Z",
     "shell.execute_reply": "2021-09-03T22:11:08.087214Z",
     "shell.execute_reply.started": "2021-09-03T22:05:00.775638Z"
    },
    "papermill": {
     "duration": 0.050434,
     "end_time": "2021-09-03T22:11:08.087386",
     "exception": false,
     "start_time": "2021-09-03T22:11:08.036952",
     "status": "completed"
    },
    "tags": []
   },
   "outputs": [
    {
     "data": {
      "text/html": [
       "<div>\n",
       "<style scoped>\n",
       "    .dataframe tbody tr th:only-of-type {\n",
       "        vertical-align: middle;\n",
       "    }\n",
       "\n",
       "    .dataframe tbody tr th {\n",
       "        vertical-align: top;\n",
       "    }\n",
       "\n",
       "    .dataframe thead th {\n",
       "        text-align: right;\n",
       "    }\n",
       "</style>\n",
       "<table border=\"1\" class=\"dataframe\">\n",
       "  <thead>\n",
       "    <tr style=\"text-align: right;\">\n",
       "      <th></th>\n",
       "      <th>model</th>\n",
       "      <th>best_score</th>\n",
       "      <th>best_params</th>\n",
       "    </tr>\n",
       "  </thead>\n",
       "  <tbody>\n",
       "    <tr>\n",
       "      <th>1</th>\n",
       "      <td>random_forest</td>\n",
       "      <td>0.629738</td>\n",
       "      <td>{'n_estimators': 100}</td>\n",
       "    </tr>\n",
       "  </tbody>\n",
       "</table>\n",
       "</div>"
      ],
      "text/plain": [
       "           model  best_score            best_params\n",
       "1  random_forest    0.629738  {'n_estimators': 100}"
      ]
     },
     "execution_count": 23,
     "metadata": {},
     "output_type": "execute_result"
    }
   ],
   "source": [
    "row_score_max = df_score['best_score'].argmax()\n",
    "df_score.loc[[row_score_max]]"
   ]
  },
  {
   "cell_type": "markdown",
   "id": "willing-portland",
   "metadata": {
    "papermill": {
     "duration": 0.035066,
     "end_time": "2021-09-03T22:11:08.158094",
     "exception": false,
     "start_time": "2021-09-03T22:11:08.123028",
     "status": "completed"
    },
    "tags": []
   },
   "source": [
    "### Display the result of the best alghoritm"
   ]
  },
  {
   "cell_type": "code",
   "execution_count": 24,
   "id": "thrown-stranger",
   "metadata": {
    "execution": {
     "iopub.execute_input": "2021-09-03T22:11:08.232418Z",
     "iopub.status.busy": "2021-09-03T22:11:08.231523Z",
     "iopub.status.idle": "2021-09-03T22:11:08.237138Z",
     "shell.execute_reply": "2021-09-03T22:11:08.237527Z",
     "shell.execute_reply.started": "2021-09-03T22:05:00.789855Z"
    },
    "papermill": {
     "duration": 0.044177,
     "end_time": "2021-09-03T22:11:08.237699",
     "exception": false,
     "start_time": "2021-09-03T22:11:08.193522",
     "status": "completed"
    },
    "tags": []
   },
   "outputs": [],
   "source": [
    "from sklearn.model_selection import train_test_split\n",
    "x_train, x_test, y_train, y_test = train_test_split(features, y, test_size=0.25, random_state=101)"
   ]
  },
  {
   "cell_type": "code",
   "execution_count": 25,
   "id": "regulated-tolerance",
   "metadata": {
    "execution": {
     "iopub.execute_input": "2021-09-03T22:11:08.313365Z",
     "iopub.status.busy": "2021-09-03T22:11:08.312454Z",
     "iopub.status.idle": "2021-09-03T22:11:09.244816Z",
     "shell.execute_reply": "2021-09-03T22:11:09.244185Z",
     "shell.execute_reply.started": "2021-09-03T22:05:00.801137Z"
    },
    "papermill": {
     "duration": 0.970887,
     "end_time": "2021-09-03T22:11:09.244977",
     "exception": false,
     "start_time": "2021-09-03T22:11:08.274090",
     "status": "completed"
    },
    "tags": []
   },
   "outputs": [
    {
     "data": {
      "text/plain": [
       "0.6800976800976801"
      ]
     },
     "execution_count": 25,
     "metadata": {},
     "output_type": "execute_result"
    }
   ],
   "source": [
    "model = RandomForestClassifier(n_estimators=100)\n",
    "model.fit(x_train,y_train)\n",
    "model.score(x_test,y_test)"
   ]
  },
  {
   "cell_type": "markdown",
   "id": "aquatic-berlin",
   "metadata": {
    "papermill": {
     "duration": 0.035222,
     "end_time": "2021-09-03T22:11:09.315971",
     "exception": false,
     "start_time": "2021-09-03T22:11:09.280749",
     "status": "completed"
    },
    "tags": []
   },
   "source": [
    "### Confusion Matrix"
   ]
  },
  {
   "cell_type": "code",
   "execution_count": 26,
   "id": "normal-marathon",
   "metadata": {
    "execution": {
     "iopub.execute_input": "2021-09-03T22:11:09.393055Z",
     "iopub.status.busy": "2021-09-03T22:11:09.392421Z",
     "iopub.status.idle": "2021-09-03T22:11:09.644672Z",
     "shell.execute_reply": "2021-09-03T22:11:09.645131Z",
     "shell.execute_reply.started": "2021-09-03T22:05:01.723009Z"
    },
    "papermill": {
     "duration": 0.293775,
     "end_time": "2021-09-03T22:11:09.645308",
     "exception": false,
     "start_time": "2021-09-03T22:11:09.351533",
     "status": "completed"
    },
    "tags": []
   },
   "outputs": [
    {
     "ename": "NameError",
     "evalue": "name 'sb' is not defined",
     "output_type": "error",
     "traceback": [
      "\u001b[1;31m---------------------------------------------------------------------------\u001b[0m",
      "\u001b[1;31mNameError\u001b[0m                                 Traceback (most recent call last)",
      "Cell \u001b[1;32mIn[26], line 7\u001b[0m\n\u001b[0;32m      5\u001b[0m cm \u001b[38;5;241m=\u001b[39m confusion_matrix(y_test,y_predicted)\n\u001b[0;32m      6\u001b[0m plt\u001b[38;5;241m.\u001b[39mfigure(figsize \u001b[38;5;241m=\u001b[39m (\u001b[38;5;241m10\u001b[39m,\u001b[38;5;241m7\u001b[39m))\n\u001b[1;32m----> 7\u001b[0m \u001b[43msb\u001b[49m\u001b[38;5;241m.\u001b[39mheatmap(cm, annot\u001b[38;5;241m=\u001b[39m\u001b[38;5;28;01mTrue\u001b[39;00m, fmt\u001b[38;5;241m=\u001b[39m\u001b[38;5;124m\"\u001b[39m\u001b[38;5;124m.1f\u001b[39m\u001b[38;5;124m\"\u001b[39m)\n\u001b[0;32m      8\u001b[0m plt\u001b[38;5;241m.\u001b[39mxlabel(\u001b[38;5;124m'\u001b[39m\u001b[38;5;124mPredicted\u001b[39m\u001b[38;5;124m'\u001b[39m)\n",
      "\u001b[1;31mNameError\u001b[0m: name 'sb' is not defined"
     ]
    },
    {
     "data": {
      "text/plain": [
       "<Figure size 1000x700 with 0 Axes>"
      ]
     },
     "metadata": {},
     "output_type": "display_data"
    }
   ],
   "source": [
    "from sklearn.metrics import confusion_matrix\n",
    "\n",
    "\n",
    "y_predicted = model.predict(x_test)\n",
    "cm = confusion_matrix(y_test,y_predicted)\n",
    "plt.figure(figsize = (10,7))\n",
    "sb.heatmap(cm, annot=True, fmt=\".1f\")\n",
    "plt.xlabel('Predicted')"
   ]
  },
  {
   "cell_type": "markdown",
   "id": "forced-satisfaction",
   "metadata": {
    "papermill": {
     "duration": 0.036129,
     "end_time": "2021-09-03T22:11:09.717725",
     "exception": false,
     "start_time": "2021-09-03T22:11:09.681596",
     "status": "completed"
    },
    "tags": []
   },
   "source": [
    "### Classification Report"
   ]
  },
  {
   "cell_type": "code",
   "execution_count": 27,
   "id": "unlimited-current",
   "metadata": {
    "execution": {
     "iopub.execute_input": "2021-09-03T22:11:09.793703Z",
     "iopub.status.busy": "2021-09-03T22:11:09.793105Z",
     "iopub.status.idle": "2021-09-03T22:11:09.803646Z",
     "shell.execute_reply": "2021-09-03T22:11:09.803158Z",
     "shell.execute_reply.started": "2021-09-03T22:05:01.971425Z"
    },
    "papermill": {
     "duration": 0.049635,
     "end_time": "2021-09-03T22:11:09.803780",
     "exception": false,
     "start_time": "2021-09-03T22:11:09.754145",
     "status": "completed"
    },
    "tags": []
   },
   "outputs": [
    {
     "name": "stdout",
     "output_type": "stream",
     "text": [
      "              precision    recall  f1-score   support\n",
      "\n",
      "           0       0.69      0.89      0.77       506\n",
      "           1       0.66      0.34      0.45       313\n",
      "\n",
      "    accuracy                           0.68       819\n",
      "   macro avg       0.67      0.62      0.61       819\n",
      "weighted avg       0.67      0.68      0.65       819\n",
      "\n"
     ]
    }
   ],
   "source": [
    "from sklearn.metrics import classification_report\n",
    "print(classification_report(y_test,y_predicted))"
   ]
  },
  {
   "cell_type": "markdown",
   "id": "sharp-friend",
   "metadata": {
    "papermill": {
     "duration": 0.036675,
     "end_time": "2021-09-03T22:11:09.877449",
     "exception": false,
     "start_time": "2021-09-03T22:11:09.840774",
     "status": "completed"
    },
    "tags": []
   },
   "source": [
    "# Try handle imbalance dataset to get better result"
   ]
  },
  {
   "cell_type": "code",
   "execution_count": 28,
   "id": "insured-fleet",
   "metadata": {
    "execution": {
     "iopub.execute_input": "2021-09-03T22:11:09.958069Z",
     "iopub.status.busy": "2021-09-03T22:11:09.957428Z",
     "iopub.status.idle": "2021-09-03T22:11:09.960935Z",
     "shell.execute_reply": "2021-09-03T22:11:09.960462Z",
     "shell.execute_reply.started": "2021-09-03T22:05:01.985039Z"
    },
    "papermill": {
     "duration": 0.046644,
     "end_time": "2021-09-03T22:11:09.961074",
     "exception": false,
     "start_time": "2021-09-03T22:11:09.914430",
     "status": "completed"
    },
    "tags": []
   },
   "outputs": [
    {
     "data": {
      "text/plain": [
       "Potability\n",
       "0    1998\n",
       "1    1278\n",
       "Name: count, dtype: int64"
      ]
     },
     "execution_count": 28,
     "metadata": {},
     "output_type": "execute_result"
    }
   ],
   "source": [
    "y.value_counts()"
   ]
  },
  {
   "cell_type": "markdown",
   "id": "desperate-gothic",
   "metadata": {
    "papermill": {
     "duration": 0.037624,
     "end_time": "2021-09-03T22:11:10.036209",
     "exception": false,
     "start_time": "2021-09-03T22:11:09.998585",
     "status": "completed"
    },
    "tags": []
   },
   "source": [
    "### Handle Imbalance using **SMOTE**"
   ]
  },
  {
   "cell_type": "code",
   "execution_count": 29,
   "id": "funded-helmet",
   "metadata": {
    "execution": {
     "iopub.execute_input": "2021-09-03T22:11:10.116611Z",
     "iopub.status.busy": "2021-09-03T22:11:10.115961Z",
     "iopub.status.idle": "2021-09-03T22:11:10.298941Z",
     "shell.execute_reply": "2021-09-03T22:11:10.298355Z",
     "shell.execute_reply.started": "2021-09-03T22:05:01.998586Z"
    },
    "papermill": {
     "duration": 0.225334,
     "end_time": "2021-09-03T22:11:10.299080",
     "exception": false,
     "start_time": "2021-09-03T22:11:10.073746",
     "status": "completed"
    },
    "tags": []
   },
   "outputs": [
    {
     "data": {
      "text/plain": [
       "Potability\n",
       "0    1998\n",
       "1    1998\n",
       "Name: count, dtype: int64"
      ]
     },
     "execution_count": 29,
     "metadata": {},
     "output_type": "execute_result"
    }
   ],
   "source": [
    "from imblearn.over_sampling import SMOTE\n",
    "smote = SMOTE(sampling_strategy='minority')\n",
    "x_sm, y_sm = smote.fit_resample(features, y)\n",
    "\n",
    "y_sm.value_counts()"
   ]
  },
  {
   "cell_type": "markdown",
   "id": "pleased-commission",
   "metadata": {
    "papermill": {
     "duration": 0.037336,
     "end_time": "2021-09-03T22:11:10.374401",
     "exception": false,
     "start_time": "2021-09-03T22:11:10.337065",
     "status": "completed"
    },
    "tags": []
   },
   "source": [
    "### Cross validation and hyperparemeter using a new dataset"
   ]
  },
  {
   "cell_type": "code",
   "execution_count": 30,
   "id": "ordered-projector",
   "metadata": {
    "execution": {
     "iopub.execute_input": "2021-09-03T22:11:10.455890Z",
     "iopub.status.busy": "2021-09-03T22:11:10.455224Z",
     "iopub.status.idle": "2021-09-03T22:12:01.937412Z",
     "shell.execute_reply": "2021-09-03T22:12:01.937894Z",
     "shell.execute_reply.started": "2021-09-03T22:05:02.183908Z"
    },
    "papermill": {
     "duration": 51.526387,
     "end_time": "2021-09-03T22:12:01.938071",
     "exception": false,
     "start_time": "2021-09-03T22:11:10.411684",
     "status": "completed"
    },
    "tags": []
   },
   "outputs": [
    {
     "data": {
      "text/html": [
       "<div>\n",
       "<style scoped>\n",
       "    .dataframe tbody tr th:only-of-type {\n",
       "        vertical-align: middle;\n",
       "    }\n",
       "\n",
       "    .dataframe tbody tr th {\n",
       "        vertical-align: top;\n",
       "    }\n",
       "\n",
       "    .dataframe thead th {\n",
       "        text-align: right;\n",
       "    }\n",
       "</style>\n",
       "<table border=\"1\" class=\"dataframe\">\n",
       "  <thead>\n",
       "    <tr style=\"text-align: right;\">\n",
       "      <th></th>\n",
       "      <th>model</th>\n",
       "      <th>best_score</th>\n",
       "      <th>best_params</th>\n",
       "    </tr>\n",
       "  </thead>\n",
       "  <tbody>\n",
       "    <tr>\n",
       "      <th>0</th>\n",
       "      <td>svm</td>\n",
       "      <td>0.539553</td>\n",
       "      <td>{'C': 50, 'kernel': 'rbf'}</td>\n",
       "    </tr>\n",
       "    <tr>\n",
       "      <th>1</th>\n",
       "      <td>random_forest</td>\n",
       "      <td>0.692707</td>\n",
       "      <td>{'n_estimators': 50}</td>\n",
       "    </tr>\n",
       "    <tr>\n",
       "      <th>2</th>\n",
       "      <td>logistic_regression</td>\n",
       "      <td>0.511264</td>\n",
       "      <td>{'C': 5}</td>\n",
       "    </tr>\n",
       "    <tr>\n",
       "      <th>3</th>\n",
       "      <td>KNN</td>\n",
       "      <td>0.678186</td>\n",
       "      <td>{'n_neighbors': 3}</td>\n",
       "    </tr>\n",
       "  </tbody>\n",
       "</table>\n",
       "</div>"
      ],
      "text/plain": [
       "                 model  best_score                 best_params\n",
       "0                  svm    0.539553  {'C': 50, 'kernel': 'rbf'}\n",
       "1        random_forest    0.692707        {'n_estimators': 50}\n",
       "2  logistic_regression    0.511264                    {'C': 5}\n",
       "3                  KNN    0.678186          {'n_neighbors': 3}"
      ]
     },
     "execution_count": 30,
     "metadata": {},
     "output_type": "execute_result"
    }
   ],
   "source": [
    "from sklearn.model_selection import GridSearchCV\n",
    "scores = []\n",
    "\n",
    "for model_name, mp in model_params.items():\n",
    "    clf =  GridSearchCV(mp['model'], mp['params'], cv=5, return_train_score=False)\n",
    "    clf.fit(x_sm, y_sm)\n",
    "    scores.append({\n",
    "        'model': model_name,\n",
    "        'best_score': clf.best_score_,\n",
    "        'best_params': clf.best_params_\n",
    "    })\n",
    "    \n",
    "df_score_smote = pd.DataFrame(scores,columns=['model','best_score','best_params'])\n",
    "df_score_smote"
   ]
  },
  {
   "cell_type": "code",
   "execution_count": null,
   "id": "furnished-carolina",
   "metadata": {
    "execution": {
     "iopub.execute_input": "2021-09-03T22:12:02.044585Z",
     "iopub.status.busy": "2021-09-03T22:12:02.038518Z",
     "iopub.status.idle": "2021-09-03T22:12:02.139138Z",
     "shell.execute_reply": "2021-09-03T22:12:02.139555Z",
     "shell.execute_reply.started": "2021-09-03T22:05:53.085150Z"
    },
    "papermill": {
     "duration": 0.163508,
     "end_time": "2021-09-03T22:12:02.139731",
     "exception": false,
     "start_time": "2021-09-03T22:12:01.976223",
     "status": "completed"
    },
    "tags": []
   },
   "outputs": [],
   "source": [
    "sb.barplot(x=\"model\", y=\"best_score\", data=df_score_smote)\n",
    "plt.ylim(0, 1)"
   ]
  },
  {
   "cell_type": "code",
   "execution_count": 31,
   "id": "indirect-waters",
   "metadata": {
    "execution": {
     "iopub.execute_input": "2021-09-03T22:12:02.229182Z",
     "iopub.status.busy": "2021-09-03T22:12:02.228260Z",
     "iopub.status.idle": "2021-09-03T22:12:02.232334Z",
     "shell.execute_reply": "2021-09-03T22:12:02.231877Z",
     "shell.execute_reply.started": "2021-09-03T22:05:53.206387Z"
    },
    "papermill": {
     "duration": 0.053781,
     "end_time": "2021-09-03T22:12:02.232476",
     "exception": false,
     "start_time": "2021-09-03T22:12:02.178695",
     "status": "completed"
    },
    "tags": []
   },
   "outputs": [
    {
     "data": {
      "text/html": [
       "<div>\n",
       "<style scoped>\n",
       "    .dataframe tbody tr th:only-of-type {\n",
       "        vertical-align: middle;\n",
       "    }\n",
       "\n",
       "    .dataframe tbody tr th {\n",
       "        vertical-align: top;\n",
       "    }\n",
       "\n",
       "    .dataframe thead th {\n",
       "        text-align: right;\n",
       "    }\n",
       "</style>\n",
       "<table border=\"1\" class=\"dataframe\">\n",
       "  <thead>\n",
       "    <tr style=\"text-align: right;\">\n",
       "      <th></th>\n",
       "      <th>model</th>\n",
       "      <th>best_score</th>\n",
       "      <th>best_params</th>\n",
       "    </tr>\n",
       "  </thead>\n",
       "  <tbody>\n",
       "    <tr>\n",
       "      <th>1</th>\n",
       "      <td>random_forest</td>\n",
       "      <td>0.692707</td>\n",
       "      <td>{'n_estimators': 50}</td>\n",
       "    </tr>\n",
       "  </tbody>\n",
       "</table>\n",
       "</div>"
      ],
      "text/plain": [
       "           model  best_score           best_params\n",
       "1  random_forest    0.692707  {'n_estimators': 50}"
      ]
     },
     "execution_count": 31,
     "metadata": {},
     "output_type": "execute_result"
    }
   ],
   "source": [
    "row_score_max_smote = df_score_smote['best_score'].argmax()\n",
    "df_score_smote.loc[[row_score_max_smote]]"
   ]
  },
  {
   "cell_type": "markdown",
   "id": "vertical-wallpaper",
   "metadata": {
    "papermill": {
     "duration": 0.039314,
     "end_time": "2021-09-03T22:12:02.310725",
     "exception": false,
     "start_time": "2021-09-03T22:12:02.271411",
     "status": "completed"
    },
    "tags": []
   },
   "source": [
    "### Display the result again to compare before and after handle imbalance dataset"
   ]
  },
  {
   "cell_type": "code",
   "execution_count": 32,
   "id": "romance-plane",
   "metadata": {
    "execution": {
     "iopub.execute_input": "2021-09-03T22:12:02.394058Z",
     "iopub.status.busy": "2021-09-03T22:12:02.392942Z",
     "iopub.status.idle": "2021-09-03T22:12:02.396802Z",
     "shell.execute_reply": "2021-09-03T22:12:02.396350Z",
     "shell.execute_reply.started": "2021-09-03T22:05:53.218569Z"
    },
    "papermill": {
     "duration": 0.047555,
     "end_time": "2021-09-03T22:12:02.396951",
     "exception": false,
     "start_time": "2021-09-03T22:12:02.349396",
     "status": "completed"
    },
    "tags": []
   },
   "outputs": [],
   "source": [
    "x_train_smote, x_test_smote, y_train_smote, y_test_smote = train_test_split(x_sm, y_sm, test_size=0.25, random_state=101)"
   ]
  },
  {
   "cell_type": "code",
   "execution_count": 33,
   "id": "moral-subsection",
   "metadata": {
    "execution": {
     "iopub.execute_input": "2021-09-03T22:12:02.479918Z",
     "iopub.status.busy": "2021-09-03T22:12:02.478978Z",
     "iopub.status.idle": "2021-09-03T22:12:03.549088Z",
     "shell.execute_reply": "2021-09-03T22:12:03.548508Z",
     "shell.execute_reply.started": "2021-09-03T22:05:53.234244Z"
    },
    "papermill": {
     "duration": 1.113559,
     "end_time": "2021-09-03T22:12:03.549230",
     "exception": false,
     "start_time": "2021-09-03T22:12:02.435671",
     "status": "completed"
    },
    "tags": []
   },
   "outputs": [
    {
     "data": {
      "text/plain": [
       "0.7457457457457457"
      ]
     },
     "execution_count": 33,
     "metadata": {},
     "output_type": "execute_result"
    }
   ],
   "source": [
    "model_smote = RandomForestClassifier(n_estimators=100)\n",
    "model_smote.fit(x_train_smote,y_train_smote)\n",
    "model_smote.score(x_test_smote,y_test_smote)"
   ]
  },
  {
   "cell_type": "code",
   "execution_count": 34,
   "id": "raised-walnut",
   "metadata": {
    "execution": {
     "iopub.execute_input": "2021-09-03T22:12:03.633752Z",
     "iopub.status.busy": "2021-09-03T22:12:03.632775Z",
     "iopub.status.idle": "2021-09-03T22:12:03.849122Z",
     "shell.execute_reply": "2021-09-03T22:12:03.848560Z",
     "shell.execute_reply.started": "2021-09-03T22:05:54.324683Z"
    },
    "papermill": {
     "duration": 0.260969,
     "end_time": "2021-09-03T22:12:03.849284",
     "exception": false,
     "start_time": "2021-09-03T22:12:03.588315",
     "status": "completed"
    },
    "tags": []
   },
   "outputs": [
    {
     "ename": "NameError",
     "evalue": "name 'sb' is not defined",
     "output_type": "error",
     "traceback": [
      "\u001b[1;31m---------------------------------------------------------------------------\u001b[0m",
      "\u001b[1;31mNameError\u001b[0m                                 Traceback (most recent call last)",
      "Cell \u001b[1;32mIn[34], line 4\u001b[0m\n\u001b[0;32m      2\u001b[0m cm \u001b[38;5;241m=\u001b[39m confusion_matrix(y_test_smote,y_predicted_smote)\n\u001b[0;32m      3\u001b[0m plt\u001b[38;5;241m.\u001b[39mfigure(figsize \u001b[38;5;241m=\u001b[39m (\u001b[38;5;241m10\u001b[39m,\u001b[38;5;241m7\u001b[39m))\n\u001b[1;32m----> 4\u001b[0m \u001b[43msb\u001b[49m\u001b[38;5;241m.\u001b[39mheatmap(cm, annot\u001b[38;5;241m=\u001b[39m\u001b[38;5;28;01mTrue\u001b[39;00m, fmt\u001b[38;5;241m=\u001b[39m\u001b[38;5;124m\"\u001b[39m\u001b[38;5;124m.1f\u001b[39m\u001b[38;5;124m\"\u001b[39m)\n\u001b[0;32m      5\u001b[0m plt\u001b[38;5;241m.\u001b[39mxlabel(\u001b[38;5;124m'\u001b[39m\u001b[38;5;124mPredicted\u001b[39m\u001b[38;5;124m'\u001b[39m)\n",
      "\u001b[1;31mNameError\u001b[0m: name 'sb' is not defined"
     ]
    },
    {
     "data": {
      "text/plain": [
       "<Figure size 1000x700 with 0 Axes>"
      ]
     },
     "metadata": {},
     "output_type": "display_data"
    }
   ],
   "source": [
    "y_predicted_smote = model_smote.predict(x_test_smote)\n",
    "cm = confusion_matrix(y_test_smote,y_predicted_smote)\n",
    "plt.figure(figsize = (10,7))\n",
    "sb.heatmap(cm, annot=True, fmt=\".1f\")\n",
    "plt.xlabel('Predicted')"
   ]
  },
  {
   "cell_type": "code",
   "execution_count": null,
   "id": "danish-butter",
   "metadata": {
    "execution": {
     "iopub.execute_input": "2021-09-03T22:12:03.935053Z",
     "iopub.status.busy": "2021-09-03T22:12:03.934450Z",
     "iopub.status.idle": "2021-09-03T22:12:03.944410Z",
     "shell.execute_reply": "2021-09-03T22:12:03.943956Z",
     "shell.execute_reply.started": "2021-09-03T22:05:54.568325Z"
    },
    "papermill": {
     "duration": 0.054613,
     "end_time": "2021-09-03T22:12:03.944550",
     "exception": false,
     "start_time": "2021-09-03T22:12:03.889937",
     "status": "completed"
    },
    "tags": []
   },
   "outputs": [],
   "source": [
    "print(classification_report(y_test_smote,y_predicted_smote))"
   ]
  },
  {
   "cell_type": "markdown",
   "id": "northern-reasoning",
   "metadata": {
    "papermill": {
     "duration": 0.040361,
     "end_time": "2021-09-03T22:12:04.025641",
     "exception": false,
     "start_time": "2021-09-03T22:12:03.985280",
     "status": "completed"
    },
    "tags": []
   },
   "source": [
    "# **Conclusion**\n",
    "## With handle imbalance dataset with SMOTE highly affect the F1-score of the \"1\" Potabilty from **0.46** to **0.74**"
   ]
  },
  {
   "cell_type": "code",
   "execution_count": null,
   "id": "conservative-companion",
   "metadata": {
    "papermill": {
     "duration": 0.041498,
     "end_time": "2021-09-03T22:12:04.107778",
     "exception": false,
     "start_time": "2021-09-03T22:12:04.066280",
     "status": "completed"
    },
    "tags": []
   },
   "outputs": [],
   "source": []
  }
 ],
 "metadata": {
  "kernelspec": {
   "display_name": "Python 3",
   "language": "python",
   "name": "python3"
  },
  "language_info": {
   "codemirror_mode": {
    "name": "ipython",
    "version": 3
   },
   "file_extension": ".py",
   "mimetype": "text/x-python",
   "name": "python",
   "nbconvert_exporter": "python",
   "pygments_lexer": "ipython3",
   "version": "3.10.8"
  },
  "papermill": {
   "default_parameters": {},
   "duration": 105.607282,
   "end_time": "2021-09-03T22:12:04.958278",
   "environment_variables": {},
   "exception": null,
   "input_path": "__notebook__.ipynb",
   "output_path": "__notebook__.ipynb",
   "parameters": {},
   "start_time": "2021-09-03T22:10:19.350996",
   "version": "2.3.3"
  }
 },
 "nbformat": 4,
 "nbformat_minor": 5
}
